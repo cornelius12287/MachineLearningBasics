{
 "cells": [
  {
   "cell_type": "code",
   "execution_count": 56,
   "metadata": {},
   "outputs": [],
   "source": [
    "import numpy as np\n",
    "import sklearn as sk\n",
    "import matplotlib.pyplot as plt\n",
    "from sklearn import linear_model"
   ]
  },
  {
   "cell_type": "code",
   "execution_count": 57,
   "metadata": {},
   "outputs": [],
   "source": [
    "x_train=np.array([36, 61, 30, 21, 47, 35, 44, 64, 24, 55, 38, 47, 60, 61, 34, 24, 23, 30, 35, 50, 45, 20, 32, 58, 62, 65, 59, 44, 45, 32, 30, 52, 51, 64, 30, 53, 39, 48, 45, 30, 45, 49, 21, 29, 32, 25, 22, 32, 41, 57, 49, 63, 56, 46, 48, 48, 32, 21, 59, 43, 24, 53, 64, 29, 43, 53, 27, 32, 27, 33, 37, 65, 58, 49, 39])\n",
    "y_train=np.array([154.47839379, 360.51919127, 182.8740687 , 152.95240174, 282.08225001, 221.45112819, 285.44221089, 378.22469102, 165.02792073, 397.99960114, 270.37610018, 306.3198933 , 373.56695844, 444.41851262, 226.965441 , 131.57444916,  84.60912039, 184.61959514, 223.18690359, 207.71019584, 232.416254 ,  68.50785195, 214.28450286, 338.4744524 , 390.98188273, 442.86608471, 359.36651466, 274.46011101, 258.75849883, 242.28488905, 168.96329229, 315.96894798, 309.38452172, 357.69156284, 167.42971826, 321.88386501, 230.64351414, 221.61319504, 236.99660104, 146.98675519, 272.46312449, 347.4899809 , 171.39131592, 195.70582422, 174.19520982, 160.13310197, 121.81567387, 172.92311999, 244.28970598, 319.92903698, 326.11856612, 418.21705155, 321.91787624, 346.61576179, 338.74579962, 337.25120476, 225.90754152, 125.71942795, 315.62255804, 250.12080986, 128.80959185, 318.88150497, 400.20453827, 165.84670878, 281.90004439, 405.34112738, 182.00053726, 203.67043106, 111.76007255, 194.20585218, 244.21335878, 418.09481108, 370.8545438 , 298.82364093, 224.97102456])\n",
    "y_test=np.array([332.18173551, 135.18129907, 104.71879021, 144.35473125, 174.44738917, 414.87595076, 172.70940207, 248.42119426, 319.99473158, 237.2532867 , 114.24724342, 140.92849086, 270.27180508, 103.9602569 , 264.15179648, 158.03069732, 295.37444943, 387.08303049, 205.16025588, 270.90173504, 158.70623166, 275.08574623, 395.0010329 , 354.5386632 , 455.2714626])\n",
    "x_test=np.array([57, 27, 29, 22, 23, 57, 37, 30, 49, 49, 31, 21, 37, 24, 37, 22, 46, 65, 38, 51, 30, 34, 58, 52, 63])"
   ]
  },
  {
   "cell_type": "code",
   "execution_count": 58,
   "metadata": {},
   "outputs": [],
   "source": [
    "x_train = x_train.reshape(-1,1)\n",
    "x_test = x_test.reshape(-1,1)"
   ]
  },
  {
   "cell_type": "code",
   "execution_count": 59,
   "metadata": {},
   "outputs": [],
   "source": [
    "reg = linear_model.LinearRegression()"
   ]
  },
  {
   "cell_type": "code",
   "execution_count": 60,
   "metadata": {},
   "outputs": [
    {
     "data": {
      "text/plain": [
       "LinearRegression(copy_X=True, fit_intercept=True, n_jobs=None, normalize=False)"
      ]
     },
     "execution_count": 60,
     "metadata": {},
     "output_type": "execute_result"
    }
   ],
   "source": [
    "reg.fit(x_train,y_train)"
   ]
  },
  {
   "cell_type": "code",
   "execution_count": 61,
   "metadata": {},
   "outputs": [
    {
     "data": {
      "text/plain": [
       "array([6.47354955])"
      ]
     },
     "execution_count": 61,
     "metadata": {},
     "output_type": "execute_result"
    }
   ],
   "source": [
    "reg.coef_"
   ]
  },
  {
   "cell_type": "code",
   "execution_count": 62,
   "metadata": {},
   "outputs": [
    {
     "data": {
      "text/plain": [
       "-14.353783306583125"
      ]
     },
     "execution_count": 62,
     "metadata": {},
     "output_type": "execute_result"
    }
   ],
   "source": [
    "reg.intercept_"
   ]
  },
  {
   "cell_type": "code",
   "execution_count": 63,
   "metadata": {},
   "outputs": [
    {
     "data": {
      "text/plain": [
       "Text(0, 0.5, 'y_data')"
      ]
     },
     "execution_count": 63,
     "metadata": {},
     "output_type": "execute_result"
    },
    {
     "data": {
      "image/png": "[encoded data removed]",
      "text/plain": [
       "<Figure size 432x288 with 1 Axes>"
      ]
     },
     "metadata": {
      "needs_background": "light"
     },
     "output_type": "display_data"
    }
   ],
   "source": [
    "plt.clf()\n",
    "plt.scatter(x_train,y_train,color='blue',label='train_data')\n",
    "plt.scatter(x_test,y_test,color='red',label='test_data')\n",
    "plt.plot(x_test,reg.predict(x_test),color='black')\n",
    "plt.legend()\n",
    "plt.xlabel('x_data')\n",
    "plt.ylabel('y_data')"
   ]
  },
  {
   "cell_type": "code",
   "execution_count": null,
   "metadata": {},
   "outputs": [],
   "source": []
  }
 ],
 "metadata": {
  "kernelspec": {
   "display_name": "Python 3",
   "language": "python",
   "name": "python3"
  },
  "language_info": {
   "codemirror_mode": {
    "name": "ipython",
    "version": 3
   },
   "file_extension": ".py",
   "mimetype": "text/x-python",
   "name": "python",
   "nbconvert_exporter": "python",
   "pygments_lexer": "ipython3",
   "version": "3.7.4"
  }
 },
 "nbformat": 4,
 "nbformat_minor": 2
}
