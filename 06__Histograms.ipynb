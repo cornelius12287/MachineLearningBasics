{
 "cells": [
  {
   "cell_type": "code",
   "execution_count": 1,
   "metadata": {},
   "outputs": [],
   "source": [
    "import numpy as np\n",
    "import matplotlib.pyplot as plt"
   ]
  },
  {
   "cell_type": "code",
   "execution_count": 2,
   "metadata": {},
   "outputs": [],
   "source": [
    "d=np.array([-2, -2, 2, -1, 1, -1.5, 2.2, 2, 0, .5])"
   ]
  },
  {
   "cell_type": "code",
   "execution_count": 6,
   "metadata": {},
   "outputs": [],
   "source": [
    "hist, bin_edges = np.histogram(d,bins=[-3,-1,0,1,3])"
   ]
  },
  {
   "cell_type": "code",
   "execution_count": 8,
   "metadata": {},
   "outputs": [],
   "source": [
    "hist, bin_edges = np.histogram(d,bins=5)"
   ]
  },
  {
   "cell_type": "code",
   "execution_count": 9,
   "metadata": {
    "collapsed": true
   },
   "outputs": [
    {
     "data": {
      "text/plain": [
       "(array([3., 1., 2., 1., 3.]),\n",
       " array([-2.  , -1.16, -0.32,  0.52,  1.36,  2.2 ]),\n",
       " <a list of 5 Patch objects>)"
      ]
     },
     "execution_count": 9,
     "metadata": {},
     "output_type": "execute_result"
    },
    {
     "data": {
      "image/png": "[encoded data removed]",
      "text/plain": [
       "<Figure size 432x288 with 1 Axes>"
      ]
     },
     "metadata": {
      "needs_background": "light"
     },
     "output_type": "display_data"
    }
   ],
   "source": [
    "plt.hist(d,bins=5)"
   ]
  },
  {
   "cell_type": "code",
   "execution_count": 10,
   "metadata": {
    "collapsed": true
   },
   "outputs": [
    {
     "data": {
      "text/plain": [
       "(array([2., 1., 1., 0., 1., 1., 0., 1., 0., 3.]),\n",
       " array([-2.  , -1.58, -1.16, -0.74, -0.32,  0.1 ,  0.52,  0.94,  1.36,\n",
       "         1.78,  2.2 ]),\n",
       " <a list of 10 Patch objects>)"
      ]
     },
     "execution_count": 10,
     "metadata": {},
     "output_type": "execute_result"
    },
    {
     "data": {
      "image/png": "[encoded data removed]",
      "text/plain": [
       "<Figure size 432x288 with 1 Axes>"
      ]
     },
     "metadata": {
      "needs_background": "light"
     },
     "output_type": "display_data"
    }
   ],
   "source": [
    "plt.hist(d,bins=10)"
   ]
  },
  {
   "cell_type": "code",
   "execution_count": null,
   "metadata": {},
   "outputs": [],
   "source": []
  },
  {
   "cell_type": "code",
   "execution_count": 11,
   "metadata": {},
   "outputs": [],
   "source": [
    "data=np.array([-2.107, -1.607,  1.577, -2.733, -2.842, -4.442, -0.258,  1.622,\n",
    "       -1.66 , -0.389, -1.473, -0.111,  0.566,  0.784,  0.606, -2.475,\n",
    "       -0.359, -1.362,  2.321, -0.189, -1.91 ,  1.915, -0.236, -0.998,\n",
    "        1.543, -1.731, -2.183,  0.189,  2.378,  2.172,  1.027,  2.448,\n",
    "        2.969,  4.918, -0.239,  1.129,  0.615, -0.799,  2.682, -0.173,\n",
    "       -2.421,  1.851,  2.305, -1.957, -0.482, -1.305,  0.202, -0.776,\n",
    "        0.071,  2.074,  0.596, -2.057, -3.325, -0.026, -1.299, -3.941,\n",
    "        0.61 ,  0.944,  5.083,  1.533,  1.357,  1.484, -0.433,  1.549,\n",
    "        0.764,  0.766, -2.526,  1.427, -1.843, -2.688,  2.105,  0.839,\n",
    "        0.436, -3.028,  2.621, -0.603,  1.427,  1.538,  1.52 , -2.963,\n",
    "        1.753,  1.378, -0.059, -0.781, -3.462, -1.484,  1.156, -0.885,\n",
    "       -3.048,  0.291, -4.01 ,  1.137, -0.498, -1.098,  2.72 ,  0.67 ,\n",
    "        1.489, -3.053,  0.679,  1.314])"
   ]
  },
  {
   "cell_type": "code",
   "execution_count": 12,
   "metadata": {},
   "outputs": [
    {
     "name": "stdout",
     "output_type": "stream",
     "text": [
      "-4.442 5.083\n"
     ]
    }
   ],
   "source": [
    "print(np.min(data),np.max(data))"
   ]
  },
  {
   "cell_type": "code",
   "execution_count": 13,
   "metadata": {
    "collapsed": true
   },
   "outputs": [
    {
     "data": {
      "text/plain": [
       "(array([ 3.,  9., 12., 11., 18., 17., 20.,  8.,  0.,  2.]),\n",
       " array([-4.442 , -3.4895, -2.537 , -1.5845, -0.632 ,  0.3205,  1.273 ,\n",
       "         2.2255,  3.178 ,  4.1305,  5.083 ]),\n",
       " <a list of 10 Patch objects>)"
      ]
     },
     "execution_count": 13,
     "metadata": {},
     "output_type": "execute_result"
    },
    {
     "data": {
      "image/png": "[encoded data removed]",
      "text/plain": [
       "<Figure size 432x288 with 1 Axes>"
      ]
     },
     "metadata": {
      "needs_background": "light"
     },
     "output_type": "display_data"
    }
   ],
   "source": [
    "plt.hist(data,bins=10)"
   ]
  },
  {
   "cell_type": "code",
   "execution_count": 14,
   "metadata": {
    "collapsed": true
   },
   "outputs": [
    {
     "data": {
      "text/plain": [
       "(array([12., 23., 35., 28.,  2.]),\n",
       " array([-4.442, -2.537, -0.632,  1.273,  3.178,  5.083]),\n",
       " <a list of 5 Patch objects>)"
      ]
     },
     "execution_count": 14,
     "metadata": {},
     "output_type": "execute_result"
    },
    {
     "data": {
      "image/png": "[encoded data removed]",
      "text/plain": [
       "<Figure size 432x288 with 1 Axes>"
      ]
     },
     "metadata": {
      "needs_background": "light"
     },
     "output_type": "display_data"
    }
   ],
   "source": [
    "plt.hist(data,bins=5)"
   ]
  },
  {
   "cell_type": "code",
   "execution_count": 16,
   "metadata": {},
   "outputs": [
    {
     "data": {
      "image/png": "[encoded data removed]",
      "text/plain": [
       "<Figure size 432x288 with 1 Axes>"
      ]
     },
     "metadata": {
      "needs_background": "light"
     },
     "output_type": "display_data"
    }
   ],
   "source": [
    "hist =  plt.hist(data,bins=5)"
   ]
  },
  {
   "cell_type": "code",
   "execution_count": 17,
   "metadata": {},
   "outputs": [
    {
     "name": "stdout",
     "output_type": "stream",
     "text": [
      "(array([12., 23., 35., 28.,  2.]), array([-4.442, -2.537, -0.632,  1.273,  3.178,  5.083]), <a list of 5 Patch objects>)\n"
     ]
    }
   ],
   "source": [
    "print(hist)"
   ]
  },
  {
   "cell_type": "code",
   "execution_count": null,
   "metadata": {},
   "outputs": [],
   "source": []
  }
 ],
 "metadata": {
  "kernelspec": {
   "display_name": "Python 3",
   "language": "python",
   "name": "python3"
  },
  "language_info": {
   "codemirror_mode": {
    "name": "ipython",
    "version": 3
   },
   "file_extension": ".py",
   "mimetype": "text/x-python",
   "name": "python",
   "nbconvert_exporter": "python",
   "pygments_lexer": "ipython3",
   "version": "3.7.4"
  }
 },
 "nbformat": 4,
 "nbformat_minor": 2
}
